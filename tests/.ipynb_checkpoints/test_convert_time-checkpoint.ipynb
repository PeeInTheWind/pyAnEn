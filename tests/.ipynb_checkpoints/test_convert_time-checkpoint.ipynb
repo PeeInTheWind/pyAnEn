{
 "cells": [
  {
   "cell_type": "markdown",
   "metadata": {},
   "source": [
    "# 时间转换\n",
    "1. 整数与小时间互转\n",
    "2. 整数与日间互转"
   ]
  },
  {
   "cell_type": "code",
   "execution_count": 18,
   "metadata": {},
   "outputs": [],
   "source": [
    "import datetime\n",
    "import pandas as pd\n",
    "import numpy as np"
   ]
  },
  {
   "cell_type": "code",
   "execution_count": 2,
   "metadata": {},
   "outputs": [],
   "source": [
    "test_hour = pd.date_range('2020-01-01', periods=24, freq='h')\n",
    "test_day = pd.date_range('2020-01-01', periods=24, freq='d')"
   ]
  },
  {
   "cell_type": "code",
   "execution_count": 40,
   "metadata": {},
   "outputs": [],
   "source": [
    "def convert_dt_int(dt, freq='h'):\n",
    "    dt = pd.to_datetime(dt)\n",
    "    origin_dt = pd.Timestamp('1970-01-01')\n",
    "    dint = (dt - origin_dt) / pd.to_timedelta(1, freq)\n",
    "    return dint.astype('int32')\n",
    "\n",
    "def convert_int_dt(dint, freq='h'):\n",
    "    origin_dt = pd.Timestamp('1970-01-01')\n",
    "    dt = origin_dt + pd.to_timedelta(dint, freq)\n",
    "    return dt"
   ]
  },
  {
   "cell_type": "code",
   "execution_count": 41,
   "metadata": {},
   "outputs": [
    {
     "name": "stdout",
     "output_type": "stream",
     "text": [
      "Int64Index([438288, 438289, 438290, 438291, 438292, 438293, 438294, 438295,\n",
      "            438296, 438297, 438298, 438299, 438300, 438301, 438302, 438303,\n",
      "            438304, 438305, 438306, 438307, 438308, 438309, 438310, 438311],\n",
      "           dtype='int64')\n",
      "--------------------\n",
      "DatetimeIndex(['2020-01-01 00:00:00', '2020-01-01 01:00:00',\n",
      "               '2020-01-01 02:00:00', '2020-01-01 03:00:00',\n",
      "               '2020-01-01 04:00:00', '2020-01-01 05:00:00',\n",
      "               '2020-01-01 06:00:00', '2020-01-01 07:00:00',\n",
      "               '2020-01-01 08:00:00', '2020-01-01 09:00:00',\n",
      "               '2020-01-01 10:00:00', '2020-01-01 11:00:00',\n",
      "               '2020-01-01 12:00:00', '2020-01-01 13:00:00',\n",
      "               '2020-01-01 14:00:00', '2020-01-01 15:00:00',\n",
      "               '2020-01-01 16:00:00', '2020-01-01 17:00:00',\n",
      "               '2020-01-01 18:00:00', '2020-01-01 19:00:00',\n",
      "               '2020-01-01 20:00:00', '2020-01-01 21:00:00',\n",
      "               '2020-01-01 22:00:00', '2020-01-01 23:00:00'],\n",
      "              dtype='datetime64[ns]', freq=None)\n",
      "--------------------\n",
      "DatetimeIndex(['2020-01-01 00:00:00', '2020-01-01 01:00:00',\n",
      "               '2020-01-01 02:00:00', '2020-01-01 03:00:00',\n",
      "               '2020-01-01 04:00:00', '2020-01-01 05:00:00',\n",
      "               '2020-01-01 06:00:00', '2020-01-01 07:00:00',\n",
      "               '2020-01-01 08:00:00', '2020-01-01 09:00:00',\n",
      "               '2020-01-01 10:00:00', '2020-01-01 11:00:00',\n",
      "               '2020-01-01 12:00:00', '2020-01-01 13:00:00',\n",
      "               '2020-01-01 14:00:00', '2020-01-01 15:00:00',\n",
      "               '2020-01-01 16:00:00', '2020-01-01 17:00:00',\n",
      "               '2020-01-01 18:00:00', '2020-01-01 19:00:00',\n",
      "               '2020-01-01 20:00:00', '2020-01-01 21:00:00',\n",
      "               '2020-01-01 22:00:00', '2020-01-01 23:00:00'],\n",
      "              dtype='datetime64[ns]', freq='H')\n"
     ]
    }
   ],
   "source": [
    "test_hour_int = convert_dt_int(test_hour)\n",
    "test_hour_int_dt = convert_int_dt(test_hour_int)\n",
    "print(test_hour_int)\n",
    "print('-'*20)\n",
    "print(test_hour_int_dt)\n",
    "print('-'*20)\n",
    "print(test_hour)"
   ]
  },
  {
   "cell_type": "code",
   "execution_count": 42,
   "metadata": {},
   "outputs": [
    {
     "name": "stdout",
     "output_type": "stream",
     "text": [
      "Int64Index([18262, 18263, 18264, 18265, 18266, 18267, 18268, 18269, 18270,\n",
      "            18271, 18272, 18273, 18274, 18275, 18276, 18277, 18278, 18279,\n",
      "            18280, 18281, 18282, 18283, 18284, 18285],\n",
      "           dtype='int64')\n",
      "DatetimeIndex(['2020-01-01', '2020-01-02', '2020-01-03', '2020-01-04',\n",
      "               '2020-01-05', '2020-01-06', '2020-01-07', '2020-01-08',\n",
      "               '2020-01-09', '2020-01-10', '2020-01-11', '2020-01-12',\n",
      "               '2020-01-13', '2020-01-14', '2020-01-15', '2020-01-16',\n",
      "               '2020-01-17', '2020-01-18', '2020-01-19', '2020-01-20',\n",
      "               '2020-01-21', '2020-01-22', '2020-01-23', '2020-01-24'],\n",
      "              dtype='datetime64[ns]', freq=None)\n",
      "DatetimeIndex(['2020-01-01', '2020-01-02', '2020-01-03', '2020-01-04',\n",
      "               '2020-01-05', '2020-01-06', '2020-01-07', '2020-01-08',\n",
      "               '2020-01-09', '2020-01-10', '2020-01-11', '2020-01-12',\n",
      "               '2020-01-13', '2020-01-14', '2020-01-15', '2020-01-16',\n",
      "               '2020-01-17', '2020-01-18', '2020-01-19', '2020-01-20',\n",
      "               '2020-01-21', '2020-01-22', '2020-01-23', '2020-01-24'],\n",
      "              dtype='datetime64[ns]', freq='D')\n"
     ]
    }
   ],
   "source": [
    "test_day_int = convert_dt_int(test_day, freq='d')\n",
    "test_day_int_dt = convert_int_dt(test_day_int, freq='d')\n",
    "print(test_day_int)\n",
    "print(test_day_int_dt)\n",
    "print(test_day)"
   ]
  },
  {
   "cell_type": "code",
   "execution_count": null,
   "metadata": {},
   "outputs": [],
   "source": []
  }
 ],
 "metadata": {
  "kernelspec": {
   "display_name": "Python 3",
   "language": "python",
   "name": "python3"
  },
  "language_info": {
   "codemirror_mode": {
    "name": "ipython",
    "version": 3
   },
   "file_extension": ".py",
   "mimetype": "text/x-python",
   "name": "python",
   "nbconvert_exporter": "python",
   "pygments_lexer": "ipython3",
   "version": "3.7.6"
  }
 },
 "nbformat": 4,
 "nbformat_minor": 4
}
