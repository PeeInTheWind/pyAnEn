{
 "cells": [
  {
   "cell_type": "code",
   "execution_count": 2,
   "metadata": {},
   "outputs": [],
   "source": [
    "import numpy as np\n",
    "import pandas as pd"
   ]
  },
  {
   "cell_type": "code",
   "execution_count": 52,
   "metadata": {},
   "outputs": [],
   "source": [
    "def cartesian_product_transpose(*arrays):\n",
    "    broadcastable = np.ix_(*arrays)\n",
    "    broadcasted = np.broadcast_arrays(*broadcastable)\n",
    "    rows, cols = np.prod(broadcasted[0].shape), len(broadcasted)\n",
    "    dtype = np.result_type(*arrays)\n",
    "\n",
    "    out = np.empty(rows * cols, dtype=dtype)\n",
    "    start, end = 0, rows\n",
    "    for a in broadcasted:\n",
    "        out[start:end] = a.reshape(-1)\n",
    "        start, end = end, end + rows\n",
    "    return out.reshape(cols, rows).T\n",
    "\n",
    "def generate_weight(min_weight=0.1, interval=0.1, weight_num=5, column_names=None):\n",
    "    arrays = [np.arange(min_weight, 1+interval, interval)] * weight_num\n",
    "    all_weight = cartesian_product_transpose(*arrays)\n",
    "    all_weight_c_sum = all_weight.sum(1)\n",
    "    sel_weight = all_weight[all_weight_c_sum==1]\n",
    "    if column_names is None:\n",
    "        column_names = [f'w{i+1}' for i in range(weight_num)]\n",
    "    data = pd.DataFrame(sel_weight, columns=column_names, dtype=np.float32)\n",
    "    index = data.mul(10).astype(int).astype(str).apply(lambda x: '_'.join(x), axis=1)\n",
    "    data.index=index\n",
    "    return data"
   ]
  },
  {
   "cell_type": "code",
   "execution_count": 57,
   "metadata": {},
   "outputs": [],
   "source": [
    "weight = generate_weight(min_weight=0.1, interval=0.1, weight_num=5)"
   ]
  },
  {
   "cell_type": "code",
   "execution_count": 58,
   "metadata": {},
   "outputs": [
    {
     "data": {
      "text/html": [
       "<div>\n",
       "<style scoped>\n",
       "    .dataframe tbody tr th:only-of-type {\n",
       "        vertical-align: middle;\n",
       "    }\n",
       "\n",
       "    .dataframe tbody tr th {\n",
       "        vertical-align: top;\n",
       "    }\n",
       "\n",
       "    .dataframe thead th {\n",
       "        text-align: right;\n",
       "    }\n",
       "</style>\n",
       "<table border=\"1\" class=\"dataframe\">\n",
       "  <thead>\n",
       "    <tr style=\"text-align: right;\">\n",
       "      <th></th>\n",
       "      <th>w1</th>\n",
       "      <th>w2</th>\n",
       "      <th>w3</th>\n",
       "      <th>w4</th>\n",
       "      <th>w5</th>\n",
       "    </tr>\n",
       "  </thead>\n",
       "  <tbody>\n",
       "    <tr>\n",
       "      <th>1_1_1_1_6</th>\n",
       "      <td>0.1</td>\n",
       "      <td>0.1</td>\n",
       "      <td>0.1</td>\n",
       "      <td>0.1</td>\n",
       "      <td>0.6</td>\n",
       "    </tr>\n",
       "    <tr>\n",
       "      <th>1_1_1_2_5</th>\n",
       "      <td>0.1</td>\n",
       "      <td>0.1</td>\n",
       "      <td>0.1</td>\n",
       "      <td>0.2</td>\n",
       "      <td>0.5</td>\n",
       "    </tr>\n",
       "    <tr>\n",
       "      <th>1_1_1_3_4</th>\n",
       "      <td>0.1</td>\n",
       "      <td>0.1</td>\n",
       "      <td>0.1</td>\n",
       "      <td>0.3</td>\n",
       "      <td>0.4</td>\n",
       "    </tr>\n",
       "    <tr>\n",
       "      <th>1_1_1_4_3</th>\n",
       "      <td>0.1</td>\n",
       "      <td>0.1</td>\n",
       "      <td>0.1</td>\n",
       "      <td>0.4</td>\n",
       "      <td>0.3</td>\n",
       "    </tr>\n",
       "    <tr>\n",
       "      <th>1_1_1_5_2</th>\n",
       "      <td>0.1</td>\n",
       "      <td>0.1</td>\n",
       "      <td>0.1</td>\n",
       "      <td>0.5</td>\n",
       "      <td>0.2</td>\n",
       "    </tr>\n",
       "  </tbody>\n",
       "</table>\n",
       "</div>"
      ],
      "text/plain": [
       "            w1   w2   w3   w4   w5\n",
       "1_1_1_1_6  0.1  0.1  0.1  0.1  0.6\n",
       "1_1_1_2_5  0.1  0.1  0.1  0.2  0.5\n",
       "1_1_1_3_4  0.1  0.1  0.1  0.3  0.4\n",
       "1_1_1_4_3  0.1  0.1  0.1  0.4  0.3\n",
       "1_1_1_5_2  0.1  0.1  0.1  0.5  0.2"
      ]
     },
     "execution_count": 58,
     "metadata": {},
     "output_type": "execute_result"
    }
   ],
   "source": [
    "weight.head()"
   ]
  },
  {
   "cell_type": "code",
   "execution_count": 59,
   "metadata": {},
   "outputs": [
    {
     "data": {
      "text/plain": [
       "w1    float32\n",
       "w2    float32\n",
       "w3    float32\n",
       "w4    float32\n",
       "w5    float32\n",
       "dtype: object"
      ]
     },
     "execution_count": 59,
     "metadata": {},
     "output_type": "execute_result"
    }
   ],
   "source": [
    "aa.dtypes"
   ]
  },
  {
   "cell_type": "code",
   "execution_count": null,
   "metadata": {},
   "outputs": [],
   "source": []
  }
 ],
 "metadata": {
  "kernelspec": {
   "display_name": "Python 3",
   "language": "python",
   "name": "python3"
  },
  "language_info": {
   "codemirror_mode": {
    "name": "ipython",
    "version": 3
   },
   "file_extension": ".py",
   "mimetype": "text/x-python",
   "name": "python",
   "nbconvert_exporter": "python",
   "pygments_lexer": "ipython3",
   "version": "3.7.6"
  }
 },
 "nbformat": 4,
 "nbformat_minor": 4
}
